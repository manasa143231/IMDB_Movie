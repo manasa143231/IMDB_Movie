{
 "cells": [
  {
   "cell_type": "code",
   "execution_count": null,
   "metadata": {},
   "outputs": [],
   "source": [
    "# Import necessary libraries\n",
    "import pandas as pd\n",
    "import numpy as np\n",
    "import seaborn as sns\n",
    "import matplotlib.pyplot as plt"
   ]
  },
  {
   "cell_type": "code",
   "execution_count": null,
   "metadata": {},
   "outputs": [],
   "source": [
    "# Load the dataset\n",
    "data = pd.read_csv(\"imdb_top_1000.csv\")"
   ]
  },
  {
   "cell_type": "code",
   "execution_count": null,
   "metadata": {},
   "outputs": [],
   "source": [
    "# Display basic information about the dataset\n",
    "print(data.head())\n",
    "print(data.info())"
   ]
  },
  {
   "cell_type": "code",
   "execution_count": null,
   "metadata": {},
   "outputs": [],
   "source": [
    "#drop the unwanted column\n",
    "data = data.drop(['Poster_Link','Star1','Star2','Star3','Star4','Meta_score'],axis=1)\n"
   ]
  },
  {
   "cell_type": "code",
   "execution_count": null,
   "metadata": {},
   "outputs": [],
   "source": [
    "# Display the first 5 rows\n",
    "data.head()"
   ]
  },
  {
   "cell_type": "code",
   "execution_count": null,
   "metadata": {},
   "outputs": [],
   "source": [
    "# check the number of missing values (NaN) in each column of our DataFrame\n",
    "data.isna().sum()"
   ]
  },
  {
   "cell_type": "code",
   "execution_count": null,
   "metadata": {},
   "outputs": [],
   "source": [
    "data =data[data['Gross'].isna()==False]\n"
   ]
  },
  {
   "cell_type": "code",
   "execution_count": null,
   "metadata": {},
   "outputs": [],
   "source": [
    "#renaming data column\n",
    "data.rename(columns={'Released_Year':'Release Year', \n",
    "             'Certificate':'Age Rating', \n",
    "             'IMDB_Rating':'IMDB Rating',\n",
    "             'Meta_score':'Metascore',\n",
    "             'No_of_Votes':'Votes',\n",
    "             'Gross':'Gross Revenue'}, inplace=True)"
   ]
  },
  {
   "cell_type": "code",
   "execution_count": null,
   "metadata": {},
   "outputs": [],
   "source": [
    "#consolidating different age ratings into three main categories: 'U' (Universal), 'UA' (Universal - Adult), and 'A' (Adult).\n",
    "data['Age Rating'] = data['Age Rating'].map({'U':'U','G':'U','PG':'U','GP':'U','TV-PG':'U',\n",
    "                                             'UA':'UA','PG-13':'UA','U/A':'UA','Passed':'UA','Approved':'UA',\n",
    "                                             'A':'A','R':'A'})\n",
    "data = data[data['Age Rating'].isna() == False]\n",
    "data['Age Rating'].value_counts()"
   ]
  },
  {
   "cell_type": "code",
   "execution_count": null,
   "metadata": {},
   "outputs": [],
   "source": [
    "#Filtering Release Year\n",
    "year_format = r'\\d\\d\\d\\d'\n",
    "data = data[data['Release Year'].str.match(year_format)]\n",
    "\n",
    "#Changing Release Year type to int\n",
    "data['Release Year'] = data['Release Year'].astype(int)\n",
    "\n",
    "# Changing Runtime type to int \n",
    "data['Runtime'] = data['Runtime'].str[:-4].astype(int)\n",
    "\n",
    "#Changing Gross Revenue type to int\n",
    "data['Gross Revenue'] = data['Gross Revenue'].str.replace(',','').astype(int)\n",
    "data['Gross Revenue'] = data['Gross Revenue']*(10**-6)"
   ]
  },
  {
   "cell_type": "code",
   "execution_count": null,
   "metadata": {},
   "outputs": [],
   "source": [
    "#Grouping by Genre\n",
    "top_Genres = data.groupby('Genre')[['IMDB Rating']].mean().sort_values('IMDB Rating',ascending=False).head(10).round(2)\n",
    "top_Genres.reset_index(inplace=True)\n",
    "top_Genres\n",
    "\n",
    "#summing up the occurrences of each genre after creating dummy variable\n",
    "Genre = data['Genre'].str.get_dummies(sep=', ')\n",
    "sum_of_generes = Genre.sum().sort_values(ascending=True)"
   ]
  },
  {
   "cell_type": "code",
   "execution_count": null,
   "metadata": {},
   "outputs": [],
   "source": [
    "print(data.isna().sum())\n",
    "print(data.dtypes)"
   ]
  },
  {
   "cell_type": "code",
   "execution_count": null,
   "metadata": {},
   "outputs": [],
   "source": [
    "# creating a horizontal bar chart to visualize the total counts of genres using matplotlib. \n",
    "colors = plt.cm.viridis(np.linspace(0, 1, len(sum_of_generes)))\n",
    "plt.barh(sum_of_generes.keys(),sum_of_generes,color=colors)\n",
    "plt.title('Total Counts of Genres', fontsize=12, weight=600)\n",
    "plt.xlabel('Total Movies')\n",
    "plt.ylabel('Genres')\n",
    "plt.show()\n"
   ]
  },
  {
   "cell_type": "code",
   "execution_count": null,
   "metadata": {},
   "outputs": [],
   "source": [
    "#creates a histogram to visualize the distribution of movie releases over different years. \n",
    "plt.hist(data['Release Year'],color='skyblue', edgecolor='white')\n",
    "plt.xlabel('Release Year')\n",
    "plt.ylabel('Release Movie Count')\n",
    "plt.title('Total Released Movie by Date')\n",
    "plt.show()"
   ]
  },
  {
   "cell_type": "code",
   "execution_count": null,
   "metadata": {},
   "outputs": [],
   "source": [
    "#create a line plot to visualize the relationship between 'Release Year' and 'IMDB Rating.\n",
    "sns.lineplot(x='Release Year', y='IMDB Rating', errorbar=None, data=data)\n",
    "plt.title('Total IMDB_Ratings by Released Movie', fontsize=12, weight=600)\n",
    "plt.show()"
   ]
  },
  {
   "cell_type": "code",
   "execution_count": null,
   "metadata": {},
   "outputs": [],
   "source": [
    "# creates a bar chart to visualize the top 10 movies based on their gross revenue. \n",
    "top_10_movies = data.nlargest(10, 'Gross Revenue')\n",
    "plt.bar(top_10_movies['Series_Title'], top_10_movies['Gross Revenue'], color='skyblue')\n",
    "plt.xlabel('Movie Name')\n",
    "plt.ylabel('Gross Revenue')\n",
    "plt.title('Top 10 Movies by Gross Revenue')\n",
    "\n",
    "# Rotate x-axis labels for better visibility\n",
    "plt.xticks(rotation=45, ha='right')  \n",
    "plt.show()"
   ]
  }
 ],
 "metadata": {
  "kernelspec": {
   "display_name": "Python 3",
   "language": "python",
   "name": "python3"
  },
  "language_info": {
   "codemirror_mode": {
    "name": "ipython",
    "version": 3
   },
   "file_extension": ".py",
   "mimetype": "text/x-python",
   "name": "python",
   "nbconvert_exporter": "python",
   "pygments_lexer": "ipython3",
   "version": "3.10.3"
  }
 },
 "nbformat": 4,
 "nbformat_minor": 2
}
